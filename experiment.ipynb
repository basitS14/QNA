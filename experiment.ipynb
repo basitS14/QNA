{
 "cells": [
  {
   "cell_type": "code",
   "execution_count": 7,
   "metadata": {},
   "outputs": [
    {
     "name": "stdout",
     "output_type": "stream",
     "text": [
      "[[-0.010632273, 0.019375853, 0.020965198, 0.0007706437, -0.061464068, 0.014739741, -0.0022759985, 0.013184195, 0.014464715, 0.022593116], [0.018468002, 0.0054281265, -0.017658807, 0.013859263, 0.05341865, 0.041700866, 0.031085702, -0.06442814, 0.010460507, 0.006893959], [0.058089074, 0.020941732, -0.10872878, -0.04039259, -0.044404425, 0.008074058, 0.029530387, 0.06106795, -0.040581264, 0.0076176887]]\n"
     ]
    }
   ],
   "source": [
    "import google.generativeai as genai\n",
    "import os\n",
    "\n",
    "gemini_api_key = os.getenv(\"GEMINI_KEY\")\n",
    "genai.configure(api_key=gemini_api_key)\n",
    "\n",
    "texts = [\n",
    "    \"What is the meaning of life?\",\n",
    "    \"How much wood would a woodchuck chuck?\",\n",
    "    \"How does the brain work?\",\n",
    "]\n",
    "result = genai.embed_content(\n",
    "    model=\"models/text-embedding-004\", content=texts, output_dimensionality=10\n",
    ")\n",
    "print(result['embedding'])"
   ]
  }
 ],
 "metadata": {
  "kernelspec": {
   "display_name": "base",
   "language": "python",
   "name": "python3"
  },
  "language_info": {
   "codemirror_mode": {
    "name": "ipython",
    "version": 3
   },
   "file_extension": ".py",
   "mimetype": "text/x-python",
   "name": "python",
   "nbconvert_exporter": "python",
   "pygments_lexer": "ipython3",
   "version": "3.11.3"
  }
 },
 "nbformat": 4,
 "nbformat_minor": 2
}
